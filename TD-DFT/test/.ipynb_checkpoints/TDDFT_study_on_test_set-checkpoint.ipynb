{
 "cells": [
  {
   "cell_type": "code",
   "execution_count": 1,
   "id": "93658bab",
   "metadata": {},
   "outputs": [],
   "source": [
    "# basic data analysis\n",
    "import pandas as pd\n",
    "import numpy as np\n",
    "\n",
    "# plotting\n",
    "import matplotlib.pyplot as plt"
   ]
  },
  {
   "cell_type": "code",
   "execution_count": 2,
   "id": "2e7b6baa",
   "metadata": {},
   "outputs": [],
   "source": [
    "def check_orca_success(filename):\n",
    "    is_success = False\n",
    "    with open(filename,'r') as fhandle:\n",
    "        lines = fhandle.readlines()\n",
    "        lines = [line.rstrip() for line in lines]\n",
    "        for line in lines:\n",
    "            if line.lower().find('optimization did not converge')!= -1:\n",
    "                return False\n",
    "        last_five = lines[-5:]\n",
    "        for each_line in last_five:\n",
    "            if each_line.find('ORCA TERMINATED NORMALLY') != -1:\n",
    "                is_success = True\n",
    "    return is_success\n",
    "# constant\n",
    "cm_1_to_eV = 1.23981e-4 # multiply const by cm-1 to get eV\n",
    "# minimal Orca 5.0 TDDFT parser\n",
    "def read_tddft(filename,range_min,range_max):\n",
    "    header_found = False\n",
    "    line_list = []\n",
    "    states = []\n",
    "    wavenums = [] # read wavenumbers then convert to eV\n",
    "    foscs = []\n",
    "    if not(check_orca_success(filename)):\n",
    "        raise Exception(\"Calculation did not end correctly\")\n",
    "    with open(filename,'r') as fhandle:\n",
    "        for line in fhandle:\n",
    "            if not(header_found):\n",
    "                if line.find('ABSORPTION SPECTRUM VIA TRANSITION ELECTRIC DIPOLE MOMENTS')!=-1:\n",
    "                    header_found = True\n",
    "            else:\n",
    "                if line.strip() == '':\n",
    "                    break\n",
    "                else:\n",
    "                    line_list.append(line)\n",
    "    if len(line_list) < 5:\n",
    "        print(\"Calculation ran into error in \"+filename)\n",
    "        return -1\n",
    "    for line in line_list[4:]:\n",
    "        parsed_data = line.strip().split()\n",
    "        states.append(int(parsed_data[0]))\n",
    "        wavenums.append(float(parsed_data[1]))\n",
    "        foscs.append(float(parsed_data[3]))\n",
    "    exc_energies = np.array(wavenums) * cm_1_to_eV\n",
    "    foscs = np.array(foscs)\n",
    "    if states[0]!=1:\n",
    "        raise Exception(\"Parse error\")\n",
    "    mask = (exc_energies>range_min) & (exc_energies<range_max)\n",
    "    exc_energies_filtered = exc_energies[mask]\n",
    "    foscs_filtered = foscs[mask]\n",
    "    if len(exc_energies_filtered) == 0:\n",
    "        return min(exc_energies) # return first excitation if none in range\n",
    "    else:\n",
    "        return exc_energies_filtered[np.argmax(foscs_filtered)]"
   ]
  },
  {
   "cell_type": "code",
   "execution_count": 5,
   "id": "7017c3af",
   "metadata": {},
   "outputs": [
    {
     "ename": "AttributeError",
     "evalue": "'numpy.ndarray' object has no attribute 'append'",
     "output_type": "error",
     "traceback": [
      "\u001b[1;31m---------------------------------------------------------------------------\u001b[0m",
      "\u001b[1;31mAttributeError\u001b[0m                            Traceback (most recent call last)",
      "\u001b[1;32m~\\AppData\\Local\\Temp\\ipykernel_3760\\1524394971.py\u001b[0m in \u001b[0;36m<module>\u001b[1;34m\u001b[0m\n\u001b[0;32m      7\u001b[0m         \u001b[1;34m'./orca_outputs/optpbed3-b2plyp-test-'\u001b[0m\u001b[1;33m+\u001b[0m\u001b[0mstr\u001b[0m\u001b[1;33m(\u001b[0m\u001b[0mindex\u001b[0m\u001b[1;33m)\u001b[0m\u001b[1;33m+\u001b[0m\u001b[1;34m'.out'\u001b[0m\u001b[1;33m,\u001b[0m\u001b[1;33m\u001b[0m\u001b[1;33m\u001b[0m\u001b[0m\n\u001b[0;32m      8\u001b[0m         \u001b[0mrow\u001b[0m\u001b[1;33m[\u001b[0m\u001b[1;34m'range_min'\u001b[0m\u001b[1;33m]\u001b[0m\u001b[1;33m,\u001b[0m\u001b[1;33m\u001b[0m\u001b[1;33m\u001b[0m\u001b[0m\n\u001b[1;32m----> 9\u001b[1;33m         row['range_max'])\n\u001b[0m\u001b[0;32m     10\u001b[0m     \u001b[0mtddft_exc_list\u001b[0m\u001b[1;33m.\u001b[0m\u001b[0mappend\u001b[0m\u001b[1;33m(\u001b[0m\u001b[0mthis_lambda_max\u001b[0m\u001b[1;33m)\u001b[0m\u001b[1;33m\u001b[0m\u001b[1;33m\u001b[0m\u001b[0m\n\u001b[0;32m     11\u001b[0m \u001b[0mselected_test_data\u001b[0m\u001b[1;33m[\u001b[0m\u001b[1;34m'b2plyp_max_ev'\u001b[0m\u001b[1;33m]\u001b[0m \u001b[1;33m=\u001b[0m \u001b[0mtddft_exc_list\u001b[0m\u001b[1;33m\u001b[0m\u001b[1;33m\u001b[0m\u001b[0m\n",
      "\u001b[1;32m~\\AppData\\Local\\Temp\\ipykernel_3760\\115957537.py\u001b[0m in \u001b[0;36mread_tddft\u001b[1;34m(filename, range_min, range_max)\u001b[0m\n\u001b[0;32m     40\u001b[0m         \u001b[0mstates\u001b[0m\u001b[1;33m.\u001b[0m\u001b[0mappend\u001b[0m\u001b[1;33m(\u001b[0m\u001b[0mint\u001b[0m\u001b[1;33m(\u001b[0m\u001b[0mparsed_data\u001b[0m\u001b[1;33m[\u001b[0m\u001b[1;36m0\u001b[0m\u001b[1;33m]\u001b[0m\u001b[1;33m)\u001b[0m\u001b[1;33m)\u001b[0m\u001b[1;33m\u001b[0m\u001b[1;33m\u001b[0m\u001b[0m\n\u001b[0;32m     41\u001b[0m         \u001b[0mwavenums\u001b[0m\u001b[1;33m.\u001b[0m\u001b[0mappend\u001b[0m\u001b[1;33m(\u001b[0m\u001b[0mfloat\u001b[0m\u001b[1;33m(\u001b[0m\u001b[0mparsed_data\u001b[0m\u001b[1;33m[\u001b[0m\u001b[1;36m1\u001b[0m\u001b[1;33m]\u001b[0m\u001b[1;33m)\u001b[0m\u001b[1;33m)\u001b[0m\u001b[1;33m\u001b[0m\u001b[1;33m\u001b[0m\u001b[0m\n\u001b[1;32m---> 42\u001b[1;33m         \u001b[0mfoscs\u001b[0m\u001b[1;33m.\u001b[0m\u001b[0mappend\u001b[0m\u001b[1;33m(\u001b[0m\u001b[0mfloat\u001b[0m\u001b[1;33m(\u001b[0m\u001b[0mparsed_data\u001b[0m\u001b[1;33m[\u001b[0m\u001b[1;36m3\u001b[0m\u001b[1;33m]\u001b[0m\u001b[1;33m)\u001b[0m\u001b[1;33m)\u001b[0m\u001b[1;33m\u001b[0m\u001b[1;33m\u001b[0m\u001b[0m\n\u001b[0m\u001b[0;32m     43\u001b[0m         \u001b[0mexc_energies\u001b[0m \u001b[1;33m=\u001b[0m \u001b[0mnp\u001b[0m\u001b[1;33m.\u001b[0m\u001b[0marray\u001b[0m\u001b[1;33m(\u001b[0m\u001b[0mwavenums\u001b[0m\u001b[1;33m)\u001b[0m \u001b[1;33m*\u001b[0m \u001b[0mcm_1_to_eV\u001b[0m\u001b[1;33m\u001b[0m\u001b[1;33m\u001b[0m\u001b[0m\n\u001b[0;32m     44\u001b[0m         \u001b[0mfoscs\u001b[0m \u001b[1;33m=\u001b[0m \u001b[0mnp\u001b[0m\u001b[1;33m.\u001b[0m\u001b[0marray\u001b[0m\u001b[1;33m(\u001b[0m\u001b[0mfoscs\u001b[0m\u001b[1;33m)\u001b[0m\u001b[1;33m\u001b[0m\u001b[1;33m\u001b[0m\u001b[0m\n",
      "\u001b[1;31mAttributeError\u001b[0m: 'numpy.ndarray' object has no attribute 'append'"
     ]
    }
   ],
   "source": [
    "selected_test_data = pd.read_csv('../filtered_test_dataset.csv',index_col=0)\n",
    "selected_test_data['range_min'] = selected_test_data.abs_max_ev.apply(lambda x: x-0.2)\n",
    "selected_test_data['range_max'] = selected_test_data.abs_max_ev.apply(lambda x: x+0.2)\n",
    "tddft_exc_list = []\n",
    "for index,row in selected_test_data.iterrows():\n",
    "    this_lambda_max = read_tddft(\n",
    "        './orca_outputs/optpbed3-b2plyp-test-'+str(index)+'.out',\n",
    "        row['range_min'],\n",
    "        row['range_max'])\n",
    "    tddft_exc_list.append(this_lambda_max)\n",
    "selected_test_data['b2plyp_max_ev'] = tddft_exc_list"
   ]
  },
  {
   "cell_type": "code",
   "execution_count": null,
   "id": "67764959",
   "metadata": {},
   "outputs": [],
   "source": []
  }
 ],
 "metadata": {
  "kernelspec": {
   "display_name": "Python 3 (ipykernel)",
   "language": "python",
   "name": "python3"
  },
  "language_info": {
   "codemirror_mode": {
    "name": "ipython",
    "version": 3
   },
   "file_extension": ".py",
   "mimetype": "text/x-python",
   "name": "python",
   "nbconvert_exporter": "python",
   "pygments_lexer": "ipython3",
   "version": "3.7.12"
  }
 },
 "nbformat": 4,
 "nbformat_minor": 5
}
